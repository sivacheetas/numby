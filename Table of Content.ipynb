{
 "cells": [
  {
   "cell_type": "markdown",
   "metadata": {},
   "source": [
    "#### Quickstart tutorial\n",
    "1. The Basics\n",
    "        * An example\n",
    "        * Array Creation\n",
    "        * Printing Arrays\n",
    "        * Basic Operations\n",
    "        * Universal Functions\n",
    "        * Indexing, Slicing and Iterating\n",
    "2. Shape Manipulation\n",
    "        * Changing the shape of an array\n",
    "        * Stacking together different arrays\n",
    "        * Splitting one array into several smaller ones\n",
    "3. Copies and Views\n",
    "        * No Copy at All\n",
    "        * View or Shallow Copy\n",
    "        * Deep Copy\n",
    "        * Functions and Methods Overview\n",
    "4. Less Basic\n",
    "        * Broadcasting rules\n",
    "5. Fancy indexing and index tricks\n",
    "        * Indexing with Arrays of Indices\n",
    "        * Indexing with Boolean Arrays\n",
    "        * The ix_() function\n",
    "        * Indexing with strings\n",
    "6. Linear Algebra\n",
    "        * Simple Array Operations\n",
    "7. Tricks and Tips\n",
    "        * “Automatic” Reshaping\n",
    "        * Vector Stacking\n",
    "        * Histograms"
   ]
  }
 ],
 "metadata": {
  "kernelspec": {
   "display_name": "Python 3",
   "language": "python",
   "name": "python3"
  },
  "language_info": {
   "codemirror_mode": {
    "name": "ipython",
    "version": 3
   },
   "file_extension": ".py",
   "mimetype": "text/x-python",
   "name": "python",
   "nbconvert_exporter": "python",
   "pygments_lexer": "ipython3",
   "version": "3.6.3"
  }
 },
 "nbformat": 4,
 "nbformat_minor": 2
}
